{
 "cells": [
  {
   "cell_type": "markdown",
   "metadata": {},
   "source": [
    "<img src=\"predictioNN_Logo_JPG(72).jpg\" width=200>"
   ]
  },
  {
   "cell_type": "markdown",
   "metadata": {
    "tags": []
   },
   "source": [
    "---\n",
    "\n",
    "## Central Virginia Data and Society Competition - Fair Lending [SOLUTIONS]\n",
    "### September 1 through October 31, 2023\n",
    "\n",
    "#### Sponsored by:\n",
    "- **UVA School of Data Science (UVA SDS)**  \n",
    "- **Academic Data Science Alliance**  \n",
    "- **PredictioNN, LLC**\n",
    "\n",
    "#### Last Updated: May 24, 2023\n",
    "---  \n",
    "\n",
    "### PREREQUISITES\n",
    "- Download and install [Anaconda](https://www.anaconda.com/download/)\n",
    "- Visit [UVA SDS](https://datascience.virginia.edu/pages/what-data-science) to learn about data science and its (soft) grouping of activities into **four domains**\n",
    "\n",
    "### SOURCES\n",
    "- Fair Lending [introduction](https://www.occ.treas.gov/topics/consumers-and-communities/consumer-protection/fair-lending/index-fair-lending.html)\n",
    "- statsmodels [library](https://www.statsmodels.org/stable/index.html)\n",
    "- 10 minutes to [pandas](https://pandas.pydata.org/docs/user_guide/10min.html)\n",
    "- PredictioNN provides data science resources for teachers, students, and practitioners.\n",
    "Visit the [website](https://predictionnllc.godaddysites.com/) to learn more!  \n",
    "- PredictioNN: Introduction to Data Science high school [course](https://github.com/PredictioNN/high_school_intro_data_science_course)\n",
    "- UVA SDS: Programming for Data Science undergraduate [course](https://github.com/UVADS/ds2001) \n",
    "\n",
    "### LEARNING OUTCOMES\n",
    "- Explain the definition of fair lending\n",
    "- Identify examples of protected classes and disparate treatment\n",
    "- Explore how to quantitatively check for fair lending\n",
    "- Illustrate how to fit a logistic regression model with `statsmodels`\n",
    "- Understand how to check if a predictor is statistically significant using software\n",
    "- Explain what a database does and why the CRUD operations are important\n",
    "- Define the primary key of a database\n",
    "\n",
    "### CONCEPTS\n",
    "- fair lending\n",
    "- default\n",
    "- discrimination\n",
    "- disparate treatment\n",
    "- protected classes\n",
    "- CRUD operations\n",
    "- relational database\n",
    "- primary key\n",
    "- underwriting decision\n",
    "- logistic regression\n",
    "- sigmoid function\n",
    "- statistical inference\n",
    "- statistical significance\n",
    "- standard error\n",
    "- p-value"
   ]
  },
  {
   "cell_type": "markdown",
   "metadata": {},
   "source": [
    "---"
   ]
  },
  {
   "cell_type": "markdown",
   "metadata": {},
   "source": [
    "### A. Executive Summary\n",
    "\n",
    "In this competition, you will work with a mortgage loan dataset, conduct exploratory data analysis, build machine learning models, and use them to explore a real-world societal challenge known as **fair lending**.\n",
    "\n",
    "You will begin with an introduction to the concept of fair lending. This includes a discussion of how machine learning models are used for systematic decisioning of loans (i.e., whether an applicant is approved or not), and how models can be used to assess if the process is fair. You will complete the reading and then work with the provided dataset to solve a series of challenges. The challenges will vary in difficulty level, and they will push you to understand fairness, systems, data, coding, modeling, mathematics, and statistics. These are typical issues that a data scientist faces, and they will provide a glimpse into the world of a data scientist.\n",
    "\n",
    "---"
   ]
  },
  {
   "cell_type": "markdown",
   "metadata": {},
   "source": [
    "### B. Instructions for Completing the Challenge\n",
    "\n",
    "- Each participant must contribute to the work of the team \n",
    "- Challenges will be marked with point values such as **(1 POINT)** and a data science domain area (one of **[A], [D], [S], [V]**) where\n",
    "  - **[A]** : analytics\n",
    "  - **[D]** : design\n",
    "  - **[S]** : systems\n",
    "  - **[V]** : value\n",
    "- To earn credit for the challenge questions, the answer and the work leading to the answer (reasoning, formulas, code, etc.) must be shown\n",
    "- All work and answers must be shown in the Jupyter notebook file submitted by the team\n",
    "- Questions marked with * are expected to have a higher level of difficulty\n",
    "\n",
    "<h3><center>POINT BREAKDOWN</center></h3>\n",
    "\n",
    "| DOMAIN      | TOTAL POINTS POSSIBLE |\n",
    "| :-----------: | :-----------: |\n",
    "| A      | 22       |\n",
    "| D   | 9        |\n",
    "| S   | 13        |\n",
    "| V   | 6        |\n",
    "| **Total**   | **50**        |\n",
    "\n",
    "Point attribution by question can be found in the file: `competition_scoring.xlsx`\n",
    "\n",
    "---"
   ]
  },
  {
   "cell_type": "markdown",
   "metadata": {},
   "source": [
    "### I. Introduction to Fair Lending\n",
    "\n",
    "The ability to borrow in advance of payment, or **credit**, is essential.\n",
    "\n",
    "As of September 2022, consumer debt in the United States was over $16 trillion (source: bankrate.com)."
   ]
  },
  {
   "cell_type": "markdown",
   "metadata": {},
   "source": [
    "\n",
    "Commercial banks are one large player in this space, providing loans and lending products such as:\n",
    "\n",
    "- mortgages\n",
    "- home equity loans\n",
    "- student loans\n",
    "- auto loans\n",
    "- credit cards\n",
    "\n",
    "Lenders want to avoid the possibility of nonpayment, or **default**, on part of the loan or the full loan.  \n",
    "They use historical information and judgement, among other things, to make lending decisions.  \n",
    "Unfortunately, some lenders include bias - knowingly and sometimes unknowingly - in their decision.\n",
    "\n",
    "Lending practices are not always fair. They may **discriminate** against subpopulations.\n",
    "\n",
    "Federal bank regulatory agencies such as the Office of the Comptroller of the Currency (OCC) have developed approaches to address unfair and deceptive lending practices. \n",
    "\n",
    "The Fair Housing Act (FHA) and the Equal Credit Opportunity Act (ECOA) protect consumers by prohibiting unfair and discriminatory practices.\n",
    "\n",
    "Discrimination in credit and real estate transactions is prohibited based on factors including:\n",
    "\n",
    "- race or color\n",
    "- national origin\n",
    "- religion\n",
    "- sex\n",
    "- age (provided the applicant is old enough to enter into a contract)\n",
    "\n",
    "A **protected class** refers to groups of individuals protected by anti-discrimination laws, such as: \n",
    "\n",
    "- women\n",
    "- individuals over the age of 65\n",
    "- Black, Hispanic, and Native American individuals\n",
    "\n",
    "**Disparate Treatment**\n",
    "\n",
    "Illegal disparate treatment occurs when a lender bases its decision on one or more discriminatory factors covered by fair lending laws. \n",
    "\n",
    "Example: A bank uses a lending process where females are offered an auto loan with a higher interest rate than males. This practice would be a violation of fair lending laws.\n"
   ]
  },
  {
   "cell_type": "markdown",
   "metadata": {},
   "source": [
    "***\n",
    "\n",
    "**READ** [this passage](https://www.occ.treas.gov/topics/consumers-and-communities/consumer-protection/fair-lending/index-fair-lending.html) on Fair Lending from the OCC.\n",
    "\n",
    "**READ** [this passage](https://www.myfico.com/credit-education/what-is-a-fico-score) for background on FICO scores.\n",
    "\n",
    "**ANSWER THESE QUESTIONS**\n",
    "\n",
    "1) **[V] (1 POINT)** What is discrimination?"
   ]
  },
  {
   "cell_type": "markdown",
   "metadata": {
    "tags": []
   },
   "source": [
    "Answer:  \n",
    "The practice of making distinctions between people based on the groups to which they belong.  \n",
    "In the process, discrimination places certain groups at a disadvantage."
   ]
  },
  {
   "cell_type": "markdown",
   "metadata": {},
   "source": [
    "2) **[V] (1 POINT)** Which of these lending practices would be considered disparate treatment? Indicate all that apply.\n",
    "\n",
    "a) Not extending credit based on a low FICO score  \n",
    "b) Not extending credit because an applicant is a minor (under age 18 in the United States)  \n",
    "c) Not extending credit because the applicant is over age 65  \n",
    "d) Not extending credit because the applicant is from a high-crime neighborhood"
   ]
  },
  {
   "cell_type": "markdown",
   "metadata": {
    "tags": []
   },
   "source": [
    "Answer:  c, d\n",
    "\n",
    "a - Low FICO score is a credit factor; this is a legitimate variable for lending decisions  \n",
    "b - A minor cannot access credit"
   ]
  },
  {
   "cell_type": "markdown",
   "metadata": {},
   "source": [
    "3) **[V] (3 POINTS; 1 POINT PER PART)** For each lending scenario, indicate if the decision may result in illegal disparate treatment of protected individuals (Yes or No).\n",
    "\n",
    "a) Two identical twins apply for the same mortgage product at a bank. One of the twins has a much lower FICO score, and her application is rejected. Her sister is approved.  \n",
    "b) A white, 30 year-old man and a white, 35 year-old woman apply for the same mortgage product at a bank. They have identical credit characteristics (FICO score, loan to value, etc.). The woman is rejected while the man is approved.  \n",
    "c) A white, 30 year-old man and a white, 35 year-old woman apply for the same mortgage product at a bank. They have identical credit characteristics (FICO score, loan to value, etc.). The man is rejected while the woman is approved.  "
   ]
  },
  {
   "cell_type": "markdown",
   "metadata": {},
   "source": [
    "Answer:  \n",
    "a) No, because the rejected applicant had lower FICO score  \n",
    "b) Yes, because their credit characteristics are the same and they applied for the same product. It seems the woman is rejected because she is female, and female is a protected class.  \n",
    "c) No. It seems the man was rejected because he is male. Male is not a protected class."
   ]
  },
  {
   "cell_type": "markdown",
   "metadata": {},
   "source": [
    "4) **[V] (1 POINT)** Based on what you read about the FICO score, is there transparency into how the metric is calculated? Explain your answer and what this might mean for users."
   ]
  },
  {
   "cell_type": "markdown",
   "metadata": {},
   "source": [
    "Answer:  \n",
    "The passage does not provide details about how the FICO score is calculated. For users of the score, it could be difficult to understand how well it might work over time, for example. Users might wish to include additional predictors, but it might not be clear which to include."
   ]
  },
  {
   "cell_type": "markdown",
   "metadata": {},
   "source": [
    "5) **[A] (1 POINT)** Fill in the blank: All else equal, a person with a higher FICO score is considered a __________ risk of defaulting on a loan."
   ]
  },
  {
   "cell_type": "markdown",
   "metadata": {},
   "source": [
    "Answer: lower"
   ]
  },
  {
   "cell_type": "markdown",
   "metadata": {},
   "source": [
    "---"
   ]
  },
  {
   "cell_type": "markdown",
   "metadata": {},
   "source": [
    "### II. Model-Based Lending\n",
    "\n",
    "Banks will build machine learning (ML) models to predict default.  \n",
    "Better models will reduce the risk of default, and ultimately losses incurred by the bank.  \n",
    "The model inputs are called **predictors**.  \n",
    "The model predictors should capture the ability and willingness of borrowers to repay the loan.  \n",
    "The predictors should not use protected class information, as this can discriminate, promoting unfair lending.  \n",
    "When banks discover useful predictors, they use them in making lending decisions.  \n",
    "\n",
    "The decisions include:\n",
    "\n",
    "- whether to approve or deny the loan request (this is the **underwriting decision**)\n",
    "- given approval of the loan, the interest rate (APR) to offer (this is the **pricing decision**)\n",
    "\n",
    "The underwriting decision model is commonly a logistic regression model (to be discussed later).  \n",
    "The pricing decision model is commonly a linear regression model.\n",
    "\n",
    "***\n",
    "\n",
    "**ANSWER THESE QUESTIONS**\n",
    "\n",
    "6) **[S] (1 POINT)** Historically, banks got to know their customers personally and based decisions on their assessment.  \n",
    "The current approach at large banks is to use ML models in making lending decisions. Why do you think this is the case?"
   ]
  },
  {
   "cell_type": "markdown",
   "metadata": {
    "tags": []
   },
   "source": [
    "Answer: Automated processes are faster and they can scale to a massive number of applicants."
   ]
  },
  {
   "cell_type": "markdown",
   "metadata": {},
   "source": [
    "7. **[A] (1 POINT)** Imagine you are tasked with building an ML model to decide if someone should be offered a mortgage.  \n",
    "Good predictors should identify applicants likely to default, while avoiding disparate treatment. They also might reflect attributes of the mortgage. \n",
    "\n",
    "Which variables might be good predictors in your model? You might circle back to this question after working with the data."
   ]
  },
  {
   "cell_type": "markdown",
   "metadata": {},
   "source": [
    "Answers: Examples include FICO score, loan to value, debt to income, length of mortgage, interest rate type, loan purpose"
   ]
  },
  {
   "cell_type": "markdown",
   "metadata": {
    "tags": []
   },
   "source": [
    "---\n",
    "\n",
    "### III. About the Data\n"
   ]
  },
  {
   "cell_type": "markdown",
   "metadata": {},
   "source": [
    "The dataset you'll use in this exercise is called `mortgage_lending.csv`\n",
    "\n",
    "The dataset contains mortgage application data that is synthetic data...it is completely made up.  \n",
    "Names, addresses, and dates of birth were generated using [Faker](https://faker.readthedocs.io/en/master/).   \n",
    "Given the first name, the gender was inferred using [gender-guesser](https://pypi.org/project/gender-guesser/).    \n",
    "For cases where a name was ambiguous, a gender was assigned.\n",
    "\n",
    "The following fields are in the dataset:\n",
    "- `applicantid` (integer). a unique identifier for each applicant. each applicant appears only once in the dataset.\n",
    "- `name` (string). applicant first and last name, sometimes including title and suffix.\n",
    "- `name_first` (string). applicant first name.\n",
    "- `name_last` (string). applicant last name.\n",
    "- `address_full` (string). applicant full address.\n",
    "- `state` (string). applicant state.\n",
    "- `zip_code` (string). applicant zip code.\n",
    "- `dob` (string). applicant date of birth.\n",
    "- `age` (integer). applicant age calculated as difference between date of birth and 4/24/2023.\n",
    "- `fico` (float). applicant FICO score.\n",
    "- `loan_to_value` (float). loan to value (LTV) of the mortgage, equal to requested mortgage size to house price.\n",
    "- `gender` (string). applicant gender.\n",
    "- `occupation` (string). applicant occupation.\n",
    "- `loan_term` (integer). term of loan.\n",
    "- `rate_type` (string). type of interest rate.\n",
    "- `denied` (integer). whether the application was denied (1) or approved (0).\n",
    "\n",
    "These field names can be found in the first row in the dataset, called the **header**.\n",
    "\n",
    "Not every field will be useful for this exercise.  \n",
    "These fields are a subset of what would be found in a real-world dataset.  \n",
    "An applicant dataset will typically be stored in a relational database which consists of tables with rows and columns.  \n"
   ]
  },
  {
   "cell_type": "markdown",
   "metadata": {},
   "source": [
    "***\n",
    "\n",
    "**ANSWER THESE QUESTIONS**\n",
    "\n",
    "8) **[S] (1 POINT)** How many rows of data are in the dataset, excluding the header row?"
   ]
  },
  {
   "cell_type": "code",
   "execution_count": 61,
   "metadata": {},
   "outputs": [
    {
     "data": {
      "text/plain": [
       "1000"
      ]
     },
     "execution_count": 61,
     "metadata": {},
     "output_type": "execute_result"
    }
   ],
   "source": [
    "# Answer: 1000 rows of data\n",
    "\n",
    "import pandas as pd\n",
    "\n",
    "df = pd.read_csv('./mortgage_lending.csv')\n",
    "len(df)"
   ]
  },
  {
   "cell_type": "markdown",
   "metadata": {},
   "source": [
    "9.* **[A] (1 POINT)** Write a function to take date of birth `dob` and `current date` return the applicant `age`.   \n",
    "Use 4/24/2023 as the current date. Test the function on the first applicant in the dataset to show that it works properly.  \n",
    "Hint: the `datetime` module will be helpful for computing time differences between dates and extracting date parts.\n",
    "\n",
    "For reference, learn about [functions](https://github.com/UVADS/ds2001/blob/main/lecture_notes/python/functions.ipynb) from the undergraduate Programming for Data Science course at UVA SDS.   \n",
    "See sections:\n",
    "- I. Introduction to Functions\n",
    "- II. Creating Functions. "
   ]
  },
  {
   "cell_type": "code",
   "execution_count": 62,
   "metadata": {},
   "outputs": [],
   "source": [
    "# Answer\n",
    "from datetime import date, datetime\n",
    "\n",
    "def calc_age(dob, current_date):\n",
    "    # convert dob to date\n",
    "    dob_dt = datetime.strptime(dob, '%Y-%m-%d').date()\n",
    "    # calculate age as difference between current_date and dob, adjusting for day/month\n",
    "    age = current_date.year - dob_dt.year - ((current_date.month, current_date.day) < (dob_dt.month, dob_dt.day))\n",
    "    return age"
   ]
  },
  {
   "cell_type": "code",
   "execution_count": 63,
   "metadata": {},
   "outputs": [
    {
     "name": "stdout",
     "output_type": "stream",
     "text": [
      "date of birth of first applicant: 1966-03-13\n",
      "age of first applicate 57\n",
      "calculated age: 57\n"
     ]
    }
   ],
   "source": [
    "# Use 4/24/2023 as the current date. \n",
    "current_date = datetime.strptime('2023-04-24', '%Y-%m-%d').date()\n",
    "\n",
    "print('date of birth of first applicant:', df.dob[0])\n",
    "print('age of first applicate', df.age[0])\n",
    "# verify the function works\n",
    "print('calculated age:', calc_age(df.dob[0], current_date))"
   ]
  },
  {
   "cell_type": "markdown",
   "metadata": {},
   "source": [
    "### IV. Exploratory Data Analysis"
   ]
  },
  {
   "cell_type": "markdown",
   "metadata": {},
   "source": [
    "Data scientists should always explore the data and get to understand its background before building models.  \n",
    "This provides greater understanding and knowledge of the limitations and defects.  In this section, you will explore the dataset and answer questions about it."
   ]
  },
  {
   "cell_type": "markdown",
   "metadata": {},
   "source": [
    "For processing the data, you'll want to use the `pandas` module.  \n",
    "Here are two resources to get you started.\n",
    "- [10 minutes to Pandas](https://pandas.pydata.org/docs/user_guide/10min.html). Quick overview.\n",
    "- [pandas notes](https://github.com/PredictioNN/high_school_intro_data_science_course/blob/main/semester1/week_05_08_data_clean_prepare/pandas_dataframes.ipynb) from the introductory high school data science course developed and maintained by **PredictioNN.**  \n",
    "You'll find some useful functions here."
   ]
  },
  {
   "cell_type": "markdown",
   "metadata": {},
   "source": [
    "**Importing Python modules for analysis. You may need additional modules.**"
   ]
  },
  {
   "cell_type": "code",
   "execution_count": 64,
   "metadata": {},
   "outputs": [],
   "source": [
    "import matplotlib.pyplot as plt\n",
    "import numpy as np\n",
    "import pandas as pd"
   ]
  },
  {
   "cell_type": "markdown",
   "metadata": {},
   "source": [
    "**Load the data into a `pandas` DataFrame**"
   ]
  },
  {
   "cell_type": "code",
   "execution_count": 65,
   "metadata": {},
   "outputs": [
    {
     "data": {
      "text/plain": [
       "Index(['applicant_id', 'name', 'name_first', 'name_last', 'address_full',\n",
       "       'state', 'zip_code', 'dob', 'age', 'fico', 'loan_to_value', 'gender',\n",
       "       'occupation', 'loan_term', 'rate_type', 'denied'],\n",
       "      dtype='object')"
      ]
     },
     "execution_count": 65,
     "metadata": {},
     "output_type": "execute_result"
    }
   ],
   "source": [
    "df = pd.read_csv('./mortgage_lending.csv')\n",
    "df.columns"
   ]
  },
  {
   "cell_type": "markdown",
   "metadata": {},
   "source": [
    "10) **[A] (1 POINT**) How many males and females are in the dataset?"
   ]
  },
  {
   "cell_type": "markdown",
   "metadata": {},
   "source": [
    "Answer:  \n",
    "female -    511  \n",
    "male -      489"
   ]
  },
  {
   "cell_type": "code",
   "execution_count": 66,
   "metadata": {},
   "outputs": [
    {
     "data": {
      "text/plain": [
       "female    511\n",
       "male      489\n",
       "Name: gender, dtype: int64"
      ]
     },
     "execution_count": 66,
     "metadata": {},
     "output_type": "execute_result"
    }
   ],
   "source": [
    "df.gender.value_counts()"
   ]
  },
  {
   "cell_type": "markdown",
   "metadata": {},
   "source": [
    "11. **[A] (1 POINT**) What is the minimum, median, mean, and maximum age of the applicants?"
   ]
  },
  {
   "cell_type": "markdown",
   "metadata": {},
   "source": [
    "Answer:  \n",
    "min : 20  \n",
    "median : 46.5  \n",
    "mean : 46.455  \n",
    "max : 73"
   ]
  },
  {
   "cell_type": "code",
   "execution_count": 8,
   "metadata": {},
   "outputs": [
    {
     "data": {
      "text/plain": [
       "count    1000.000000\n",
       "mean       46.455000\n",
       "std        14.996495\n",
       "min        20.000000\n",
       "25%        34.000000\n",
       "50%        46.500000\n",
       "75%        59.000000\n",
       "max        73.000000\n",
       "Name: age, dtype: float64"
      ]
     },
     "execution_count": 8,
     "metadata": {},
     "output_type": "execute_result"
    }
   ],
   "source": [
    "df.age.describe()"
   ]
  },
  {
   "cell_type": "markdown",
   "metadata": {},
   "source": [
    "12. **[D] (1 POINT**) Produce a histogram of applicant age using the `seaborn` module.  \n",
    "Read about plotting [statistical relationships](https://seaborn.pydata.org/tutorial/relational.html) in `seaborn` to get to know the package better.  \n",
    "\n",
    "For reference, here are some notes on [visualization](https://github.com/PredictioNN/high_school_intro_data_science_course/blob/main/semester1/week_11_12_visualize_summarize/visualization.ipynb) from the **PredictioNN** course."
   ]
  },
  {
   "cell_type": "code",
   "execution_count": 9,
   "metadata": {},
   "outputs": [
    {
     "data": {
      "text/plain": [
       "<AxesSubplot:xlabel='age', ylabel='Count'>"
      ]
     },
     "execution_count": 9,
     "metadata": {},
     "output_type": "execute_result"
    },
    {
     "data": {
      "image/png": "[encoded data removed]",
      "text/plain": [
       "<Figure size 432x288 with 1 Axes>"
      ]
     },
     "metadata": {
      "needs_background": "light"
     },
     "output_type": "display_data"
    }
   ],
   "source": [
    "# Answer:  \n",
    "\n",
    "import seaborn as sns\n",
    "\n",
    "sns.histplot(x='age', data=df)"
   ]
  },
  {
   "cell_type": "markdown",
   "metadata": {},
   "source": [
    "13. **[A] (1 POINT**) What fraction of applicants were over age 65?"
   ]
  },
  {
   "cell_type": "markdown",
   "metadata": {},
   "source": [
    "Answer: 0.125"
   ]
  },
  {
   "cell_type": "code",
   "execution_count": 10,
   "metadata": {},
   "outputs": [
    {
     "data": {
      "text/plain": [
       "0.125"
      ]
     },
     "execution_count": 10,
     "metadata": {},
     "output_type": "execute_result"
    }
   ],
   "source": [
    "# use the len() function to count records  \n",
    "# subset on df.age>65  \n",
    "\n",
    "len(df[df.age > 65]) / len(df)"
   ]
  },
  {
   "cell_type": "markdown",
   "metadata": {},
   "source": [
    "14. **[A] (1 POINT)** There are applicants with states AA, AE, and AP. Use the full address as a clue to explain what this code means."
   ]
  },
  {
   "cell_type": "markdown",
   "metadata": {},
   "source": [
    "Answer: These are military state abbreviations. \n",
    "\n",
    "- Armed Forces Americas (except Canada) = AA\n",
    "- Armed Forces Middle East = AE\n",
    "- Armed Forces Pacific = AP"
   ]
  },
  {
   "cell_type": "code",
   "execution_count": 11,
   "metadata": {},
   "outputs": [
    {
     "data": {
      "text/html": [
       "<div>\n",
       "<style scoped>\n",
       "    .dataframe tbody tr th:only-of-type {\n",
       "        vertical-align: middle;\n",
       "    }\n",
       "\n",
       "    .dataframe tbody tr th {\n",
       "        vertical-align: top;\n",
       "    }\n",
       "\n",
       "    .dataframe thead th {\n",
       "        text-align: right;\n",
       "    }\n",
       "</style>\n",
       "<table border=\"1\" class=\"dataframe\">\n",
       "  <thead>\n",
       "    <tr style=\"text-align: right;\">\n",
       "      <th></th>\n",
       "      <th>applicant_id</th>\n",
       "      <th>name</th>\n",
       "      <th>name_first</th>\n",
       "      <th>name_last</th>\n",
       "      <th>address_full</th>\n",
       "      <th>state</th>\n",
       "      <th>zip_code</th>\n",
       "      <th>dob</th>\n",
       "      <th>age</th>\n",
       "      <th>fico</th>\n",
       "      <th>loan_to_value</th>\n",
       "      <th>gender</th>\n",
       "      <th>occupation</th>\n",
       "      <th>loan_term</th>\n",
       "      <th>rate_type</th>\n",
       "      <th>denied</th>\n",
       "    </tr>\n",
       "  </thead>\n",
       "  <tbody>\n",
       "    <tr>\n",
       "      <th>6</th>\n",
       "      <td>10006</td>\n",
       "      <td>Catherine Shaffer</td>\n",
       "      <td>Catherine</td>\n",
       "      <td>Shaffer</td>\n",
       "      <td>PSC 2098, Box 5691\\nAPO AA 45065</td>\n",
       "      <td>AA</td>\n",
       "      <td>45065</td>\n",
       "      <td>1986-12-26</td>\n",
       "      <td>36</td>\n",
       "      <td>425.0</td>\n",
       "      <td>63.06</td>\n",
       "      <td>female</td>\n",
       "      <td>electrician</td>\n",
       "      <td>30</td>\n",
       "      <td>FIXED</td>\n",
       "      <td>1</td>\n",
       "    </tr>\n",
       "    <tr>\n",
       "      <th>95</th>\n",
       "      <td>10095</td>\n",
       "      <td>Nicole Robertson</td>\n",
       "      <td>Nicole</td>\n",
       "      <td>Robertson</td>\n",
       "      <td>Unit 6511 Box 2674\\nDPO AA 39223</td>\n",
       "      <td>AA</td>\n",
       "      <td>39223</td>\n",
       "      <td>1984-09-19</td>\n",
       "      <td>38</td>\n",
       "      <td>466.0</td>\n",
       "      <td>74.16</td>\n",
       "      <td>female</td>\n",
       "      <td>stockbroker</td>\n",
       "      <td>30</td>\n",
       "      <td>FIXED</td>\n",
       "      <td>1</td>\n",
       "    </tr>\n",
       "  </tbody>\n",
       "</table>\n",
       "</div>"
      ],
      "text/plain": [
       "    applicant_id               name name_first  name_last  \\\n",
       "6          10006  Catherine Shaffer  Catherine    Shaffer   \n",
       "95         10095   Nicole Robertson     Nicole  Robertson   \n",
       "\n",
       "                        address_full state  zip_code         dob  age   fico  \\\n",
       "6   PSC 2098, Box 5691\\nAPO AA 45065    AA     45065  1986-12-26   36  425.0   \n",
       "95  Unit 6511 Box 2674\\nDPO AA 39223    AA     39223  1984-09-19   38  466.0   \n",
       "\n",
       "    loan_to_value  gender   occupation  loan_term rate_type  denied  \n",
       "6           63.06  female  electrician         30     FIXED       1  \n",
       "95          74.16  female  stockbroker         30     FIXED       1  "
      ]
     },
     "execution_count": 11,
     "metadata": {},
     "output_type": "execute_result"
    }
   ],
   "source": [
    "df[df.state=='AA'][0:2]"
   ]
  },
  {
   "cell_type": "markdown",
   "metadata": {},
   "source": [
    "15. **[A] (1 POINT**) What is the most frequent occupation in the dataset?"
   ]
  },
  {
   "cell_type": "markdown",
   "metadata": {},
   "source": [
    "Answer:  salesman"
   ]
  },
  {
   "cell_type": "code",
   "execution_count": 12,
   "metadata": {},
   "outputs": [
    {
     "data": {
      "text/plain": [
       "salesman      143\n",
       "mechanic       67\n",
       "accountant     57\n",
       "librarian      57\n",
       "teacher        56\n",
       "Name: occupation, dtype: int64"
      ]
     },
     "execution_count": 12,
     "metadata": {},
     "output_type": "execute_result"
    }
   ],
   "source": [
    "df.occupation.value_counts()[:5]"
   ]
  },
  {
   "cell_type": "markdown",
   "metadata": {},
   "source": [
    "16. **[D] (1 POINT**) Create a two-way table that shows a breakdown of the number of applicants by gender and occupation. For example if the genders were Male and Female, and the only occupation was salesman, you would show the number of salesmen who were female and also male. Do you notice anything that jumps out at you? Hint: the `pandas` module has a helpful function for calculating this table."
   ]
  },
  {
   "cell_type": "markdown",
   "metadata": {},
   "source": [
    "Answer: There are 45 nurses who are all female"
   ]
  },
  {
   "cell_type": "code",
   "execution_count": 13,
   "metadata": {},
   "outputs": [
    {
     "data": {
      "text/html": [
       "<div>\n",
       "<style scoped>\n",
       "    .dataframe tbody tr th:only-of-type {\n",
       "        vertical-align: middle;\n",
       "    }\n",
       "\n",
       "    .dataframe tbody tr th {\n",
       "        vertical-align: top;\n",
       "    }\n",
       "\n",
       "    .dataframe thead th {\n",
       "        text-align: right;\n",
       "    }\n",
       "</style>\n",
       "<table border=\"1\" class=\"dataframe\">\n",
       "  <thead>\n",
       "    <tr style=\"text-align: right;\">\n",
       "      <th>occupation</th>\n",
       "      <th>accountant</th>\n",
       "      <th>contractor</th>\n",
       "      <th>data scientist</th>\n",
       "      <th>dentist</th>\n",
       "      <th>doctor</th>\n",
       "      <th>electrician</th>\n",
       "      <th>fireman</th>\n",
       "      <th>investment banker</th>\n",
       "      <th>lawyer</th>\n",
       "      <th>librarian</th>\n",
       "      <th>...</th>\n",
       "      <th>mechanic</th>\n",
       "      <th>nurse</th>\n",
       "      <th>plumber</th>\n",
       "      <th>quantitative researcher</th>\n",
       "      <th>retired</th>\n",
       "      <th>salesman</th>\n",
       "      <th>software developer</th>\n",
       "      <th>stockbroker</th>\n",
       "      <th>student</th>\n",
       "      <th>teacher</th>\n",
       "    </tr>\n",
       "    <tr>\n",
       "      <th>gender</th>\n",
       "      <th></th>\n",
       "      <th></th>\n",
       "      <th></th>\n",
       "      <th></th>\n",
       "      <th></th>\n",
       "      <th></th>\n",
       "      <th></th>\n",
       "      <th></th>\n",
       "      <th></th>\n",
       "      <th></th>\n",
       "      <th></th>\n",
       "      <th></th>\n",
       "      <th></th>\n",
       "      <th></th>\n",
       "      <th></th>\n",
       "      <th></th>\n",
       "      <th></th>\n",
       "      <th></th>\n",
       "      <th></th>\n",
       "      <th></th>\n",
       "      <th></th>\n",
       "    </tr>\n",
       "  </thead>\n",
       "  <tbody>\n",
       "    <tr>\n",
       "      <th>female</th>\n",
       "      <td>31</td>\n",
       "      <td>26</td>\n",
       "      <td>4</td>\n",
       "      <td>22</td>\n",
       "      <td>25</td>\n",
       "      <td>21</td>\n",
       "      <td>22</td>\n",
       "      <td>4</td>\n",
       "      <td>21</td>\n",
       "      <td>33</td>\n",
       "      <td>...</td>\n",
       "      <td>39</td>\n",
       "      <td>45</td>\n",
       "      <td>21</td>\n",
       "      <td>4</td>\n",
       "      <td>28</td>\n",
       "      <td>54</td>\n",
       "      <td>27</td>\n",
       "      <td>19</td>\n",
       "      <td>24</td>\n",
       "      <td>31</td>\n",
       "    </tr>\n",
       "    <tr>\n",
       "      <th>male</th>\n",
       "      <td>26</td>\n",
       "      <td>23</td>\n",
       "      <td>7</td>\n",
       "      <td>21</td>\n",
       "      <td>23</td>\n",
       "      <td>29</td>\n",
       "      <td>25</td>\n",
       "      <td>4</td>\n",
       "      <td>24</td>\n",
       "      <td>24</td>\n",
       "      <td>...</td>\n",
       "      <td>28</td>\n",
       "      <td>0</td>\n",
       "      <td>32</td>\n",
       "      <td>4</td>\n",
       "      <td>25</td>\n",
       "      <td>89</td>\n",
       "      <td>20</td>\n",
       "      <td>26</td>\n",
       "      <td>26</td>\n",
       "      <td>25</td>\n",
       "    </tr>\n",
       "  </tbody>\n",
       "</table>\n",
       "<p>2 rows × 21 columns</p>\n",
       "</div>"
      ],
      "text/plain": [
       "occupation  accountant  contractor  data scientist  dentist  doctor  \\\n",
       "gender                                                                \n",
       "female              31          26               4       22      25   \n",
       "male                26          23               7       21      23   \n",
       "\n",
       "occupation  electrician  fireman  investment banker  lawyer  librarian  ...  \\\n",
       "gender                                                                  ...   \n",
       "female               21       22                  4      21         33  ...   \n",
       "male                 29       25                  4      24         24  ...   \n",
       "\n",
       "occupation  mechanic  nurse  plumber  quantitative researcher  retired  \\\n",
       "gender                                                                   \n",
       "female            39     45       21                        4       28   \n",
       "male              28      0       32                        4       25   \n",
       "\n",
       "occupation  salesman  software developer  stockbroker  student  teacher  \n",
       "gender                                                                   \n",
       "female            54                  27           19       24       31  \n",
       "male              89                  20           26       26       25  \n",
       "\n",
       "[2 rows x 21 columns]"
      ]
     },
     "execution_count": 13,
     "metadata": {},
     "output_type": "execute_result"
    }
   ],
   "source": [
    "pd.crosstab(index=df['gender'], columns=df['occupation'])"
   ]
  },
  {
   "cell_type": "markdown",
   "metadata": {},
   "source": [
    "17. **[D] (1 POINT**) Create a scatterplot with `loan_to_value` on the x-axis and `fico` on the y-axis.  "
   ]
  },
  {
   "cell_type": "code",
   "execution_count": 14,
   "metadata": {},
   "outputs": [
    {
     "data": {
      "text/plain": [
       "<AxesSubplot:xlabel='loan_to_value', ylabel='fico'>"
      ]
     },
     "execution_count": 14,
     "metadata": {},
     "output_type": "execute_result"
    },
    {
     "data": {
      "image/png": "[encoded data removed]",
      "text/plain": [
       "<Figure size 432x288 with 1 Axes>"
      ]
     },
     "metadata": {
      "needs_background": "light"
     },
     "output_type": "display_data"
    }
   ],
   "source": [
    "sns.scatterplot(x='loan_to_value', y='fico', data=df)"
   ]
  },
  {
   "cell_type": "markdown",
   "metadata": {},
   "source": [
    "18. **[A] (1 POINT)** What kind of relationship exists between `loan_to_value` and `fico`? Indicate one from: direct, inverse, or no relationship. If there is a relationship, is it linear or non-linear?"
   ]
  },
  {
   "cell_type": "markdown",
   "metadata": {},
   "source": [
    "Answer: There is an inverse relationship between `loan_to_value` and `fico`.  \n",
    "As `loan_to_value` increases, `fico` score tends to decrease."
   ]
  },
  {
   "cell_type": "markdown",
   "metadata": {},
   "source": [
    "19. **[A] (1 POINT)** If the variable `denied=0`, then the loan application was approved. How many applicants were approved? How many were denied?"
   ]
  },
  {
   "cell_type": "markdown",
   "metadata": {},
   "source": [
    "Answer:  \n",
    "\n",
    "approved (0) :  549  \n",
    "denied (1) :  451"
   ]
  },
  {
   "cell_type": "code",
   "execution_count": 15,
   "metadata": {},
   "outputs": [
    {
     "data": {
      "text/plain": [
       "0    549\n",
       "1    451\n",
       "Name: denied, dtype: int64"
      ]
     },
     "execution_count": 15,
     "metadata": {},
     "output_type": "execute_result"
    }
   ],
   "source": [
    "df.denied.value_counts()"
   ]
  },
  {
   "cell_type": "markdown",
   "metadata": {},
   "source": [
    "20. **[A] (1 POINT)** How many applications made by nurses were approved? How many were denied?"
   ]
  },
  {
   "cell_type": "markdown",
   "metadata": {},
   "source": [
    "Answer: Of the 45 nurses, 44 were denied and 1 was approved."
   ]
  },
  {
   "cell_type": "code",
   "execution_count": 16,
   "metadata": {},
   "outputs": [
    {
     "data": {
      "text/plain": [
       "1    44\n",
       "0     1\n",
       "Name: denied, dtype: int64"
      ]
     },
     "execution_count": 16,
     "metadata": {},
     "output_type": "execute_result"
    }
   ],
   "source": [
    "df.denied[df.occupation=='nurse'].value_counts()"
   ]
  },
  {
   "cell_type": "markdown",
   "metadata": {},
   "source": [
    "21.* **[S] (2 PTS TOTAL. 1 PT FOR EACH CORRECT RULE)** There were **two** lending rules which auto-denied applicants. Each rule was based on a single variable. Identify what these rules were and explain them."
   ]
  },
  {
   "cell_type": "markdown",
   "metadata": {},
   "source": [
    "Answer:  \n",
    "\n",
    "Exploratory data analysis will help identify the rules (graphing deny vs predictors)\n",
    "\n",
    "Rule 1. If `loan_to_value` > 90, deny"
   ]
  },
  {
   "cell_type": "code",
   "execution_count": 17,
   "metadata": {},
   "outputs": [
    {
     "data": {
      "text/plain": [
       "1    62\n",
       "Name: denied, dtype: int64"
      ]
     },
     "execution_count": 17,
     "metadata": {},
     "output_type": "execute_result"
    }
   ],
   "source": [
    "df.denied[df.loan_to_value > 90].value_counts()"
   ]
  },
  {
   "cell_type": "markdown",
   "metadata": {},
   "source": [
    "Rule 2. If `fico` < 550, deny"
   ]
  },
  {
   "cell_type": "code",
   "execution_count": 18,
   "metadata": {},
   "outputs": [
    {
     "data": {
      "text/plain": [
       "1    394\n",
       "Name: denied, dtype: int64"
      ]
     },
     "execution_count": 18,
     "metadata": {},
     "output_type": "execute_result"
    }
   ],
   "source": [
    "df.denied[df.fico < 550].value_counts()"
   ]
  },
  {
   "cell_type": "markdown",
   "metadata": {},
   "source": [
    "22. **[D] (2 POINTS TOTAL)** Make a plot (1 POINT) and show statistics (1 POINT) that summarize `loan_to_value` for the denied applicants and the approved applicants."
   ]
  },
  {
   "cell_type": "markdown",
   "metadata": {},
   "source": [
    "Answer: see figure and statistics below"
   ]
  },
  {
   "cell_type": "code",
   "execution_count": 21,
   "metadata": {},
   "outputs": [
    {
     "data": {
      "text/plain": [
       "<AxesSubplot:xlabel='denied', ylabel='loan_to_value'>"
      ]
     },
     "execution_count": 21,
     "metadata": {},
     "output_type": "execute_result"
    },
    {
     "data": {
      "image/png": "[encoded data removed]",
      "text/plain": [
       "<Figure size 432x288 with 1 Axes>"
      ]
     },
     "metadata": {
      "needs_background": "light"
     },
     "output_type": "display_data"
    }
   ],
   "source": [
    "sns.boxplot(x='denied', y='loan_to_value', data=df)"
   ]
  },
  {
   "cell_type": "code",
   "execution_count": 22,
   "metadata": {},
   "outputs": [
    {
     "data": {
      "text/html": [
       "<div>\n",
       "<style scoped>\n",
       "    .dataframe tbody tr th:only-of-type {\n",
       "        vertical-align: middle;\n",
       "    }\n",
       "\n",
       "    .dataframe tbody tr th {\n",
       "        vertical-align: top;\n",
       "    }\n",
       "\n",
       "    .dataframe thead th {\n",
       "        text-align: right;\n",
       "    }\n",
       "</style>\n",
       "<table border=\"1\" class=\"dataframe\">\n",
       "  <thead>\n",
       "    <tr style=\"text-align: right;\">\n",
       "      <th></th>\n",
       "      <th>loan_to_value</th>\n",
       "    </tr>\n",
       "    <tr>\n",
       "      <th>denied</th>\n",
       "      <th></th>\n",
       "    </tr>\n",
       "  </thead>\n",
       "  <tbody>\n",
       "    <tr>\n",
       "      <th>0</th>\n",
       "      <td>40.397814</td>\n",
       "    </tr>\n",
       "    <tr>\n",
       "      <th>1</th>\n",
       "      <td>74.502506</td>\n",
       "    </tr>\n",
       "  </tbody>\n",
       "</table>\n",
       "</div>"
      ],
      "text/plain": [
       "        loan_to_value\n",
       "denied               \n",
       "0           40.397814\n",
       "1           74.502506"
      ]
     },
     "execution_count": 22,
     "metadata": {},
     "output_type": "execute_result"
    }
   ],
   "source": [
    "df[['denied','loan_to_value']].groupby(by='denied').mean()"
   ]
  },
  {
   "cell_type": "markdown",
   "metadata": {},
   "source": [
    "### V. Brief Overview of Databases"
   ]
  },
  {
   "cell_type": "markdown",
   "metadata": {
    "tags": []
   },
   "source": [
    "#### Database\n",
    "\n",
    "A database is a data storage structure that supports **CRUD commands**:  \n",
    "[C]reate, [R]etrieval, [U]pdate, and [D]elete operations.   \n",
    "\n",
    "The **CRUD commands** are minimal requirements for a database.  \n",
    "Commercial databases support many other requirements, such as fast response times and the ability to distribute data to multiple nodes.\n",
    "\n",
    "For example, an Excel spreadsheet is a database because it supports:\n",
    "\n",
    "- creation: a new table can be created to store data\n",
    "- retrieval: data can be collected from a table in the spreadsheet  \n",
    "- update: data can be updated in a table (e.g., by inputting a new value in a cell)  \n",
    "- delete: one or more rows, columns, or the entire table can be deleted\n",
    "\n",
    "\n",
    "#### Relational Database\n",
    "In practice, our applicant dataset would be one table situated in a **relational database.**   \n",
    "Relational databases use a set of tables consisting of rows and columns to represent and store data organized into concepts.  \n",
    "Each concept would have its own table.  \n",
    "For example, there might be a table for applicants, another table for mortgage rate type, and another for loan term.  \n",
    "\n",
    "<p><center>table: mortgage_rate_type</center></p>\n",
    "\n",
    "| rate_type_id (integer)      | rate_type_description (string) |  \n",
    "| :-----------: | :-----------: |  \n",
    "| 0      | fixed       |  \n",
    "| 1   | floating        |  \n",
    "\n",
    "<p><center>table: loan_term</center></p>\n",
    "\n",
    "| term_id (integer)      | term_description (string) |  \n",
    "| :-----------: | :-----------: |  \n",
    "| 0      | 15yr       |  \n",
    "| 1   | 30yr        |  \n",
    "\n",
    "Structuring the data in this way minimizes redundancy and the chance for errors.  \n",
    "However, performing **queries** on the data, or information lookups, will often require joining the tables on common fields, or columns.\n",
    "\n",
    "**Primary Key**  \n",
    "For each table, it is important to be able to uniquely identify a row.  \n",
    "This is done with the **primary key**.  \n",
    "In our mortgage dataset,  the `applicantid` serves as the primary key.  \n",
    "It is a unique identifier for each applicant, and each applicant appears only once in the dataset.\n",
    "\n",
    "**Composite Key**  \n",
    "In some cases, there isn't a single column that unique identifies the rows, but a combination of columns are unique.  \n",
    "This combination of columns is called a **composite key**.  \n",
    "\n",
    "The table below shows an example.  \n",
    "Applicant 0 has two loans with the bank.  \n",
    "If we said \"give me the record where `applicantid` is 0\", this would be ambiguous.  \n",
    "However, if we said \"give me the record where `applicantid` is 0 and `loan_number` is 10111101,\" this would be clear. \n",
    "\n",
    "| applicantid (integer)      | loan_number (integer) |  \n",
    "| :-----------: | :-----------: |  \n",
    "| 0      | 10111101       |  \n",
    "| 0   |  20111101       | \n",
    "| 1   |  11111101       | \n",
    "\n",
    "While `applicantid` is not unique in the table, the combined columns (`applicantid`, `loan_number`) can provide unique identification.  \n",
    "\n",
    "**SQL**  \n",
    "SQL, or Structured Query Language, is a programming language that supports queries on a relational database.  \n",
    "Here are some examples of SQL queries: \n",
    "\n",
    "1. Select all data from the table `loan_term`:\n",
    "\n",
    "```\n",
    "SELECT * FROM loan_term;\n",
    "```\n",
    "\n",
    "2. Select all rows and specific columns from the table `loan_term` where the `mortgage_amount` matches a condition:\n",
    "\n",
    "```\n",
    "SELECT \n",
    "    applicantid,\n",
    "    name,\n",
    "    mortgage_amount \n",
    "FROM loan_term\n",
    "WHERE\n",
    "    mortgage_amount > 400000\n",
    ";\n",
    "```\n",
    "\n",
    "The questions below will help to solidify and extend your knowledge of databases and SQL."
   ]
  },
  {
   "cell_type": "markdown",
   "metadata": {},
   "source": [
    "***\n",
    "\n",
    "**ANSWER THESE QUESTIONS**\n",
    "\n",
    "23. **[S] (1 POINT)** Is your brain a database? Explain your reasoning."
   ]
  },
  {
   "cell_type": "markdown",
   "metadata": {},
   "source": [
    "Answer: Yes because it supports the CRUD operations:\n",
    "\n",
    "Create: new data can be created and stored  \n",
    "Retrieve: the brain can recall information  \n",
    "Update: it is possible to update and store knowledge  \n",
    "Delete: it is possible to delete knowledge (sadly, this happens whether we like it or not!)"
   ]
  },
  {
   "cell_type": "markdown",
   "metadata": {},
   "source": [
    "24. **[S] (1 POINT)** Is an Excel spreadsheet a database? Explain your reasoning."
   ]
  },
  {
   "cell_type": "markdown",
   "metadata": {},
   "source": [
    "Answer: Yes, as it supports the CRUD operations:\n",
    "\n",
    "- Create: a new table can be created to store data\n",
    "- Retrieve: data can be collected from a table in the spreadsheet  \n",
    "- Update: data can be updated in a table (e.g., by inputting a new value in a cell)  \n",
    "- Delete: one or more rows, columns, or the entire table can be deleted"
   ]
  },
  {
   "cell_type": "markdown",
   "metadata": {},
   "source": [
    "25. **[S] (1 POINT)** What is the purpose of the primary key?"
   ]
  },
  {
   "cell_type": "markdown",
   "metadata": {},
   "source": [
    "Answer: The primary key is a unique identifier. It supports the specification of individual records in database tables."
   ]
  },
  {
   "cell_type": "markdown",
   "metadata": {},
   "source": [
    "26. **[S] (1 POINT)** What is the purpose of a foreign key? How is it useful? You might consult [Wikipedia](https://en.wikipedia.org/wiki/Foreign_key) for details."
   ]
  },
  {
   "cell_type": "markdown",
   "metadata": {},
   "source": [
    "Answer: The foreign key is a primary key that is referenced from a different table. It can be used for joining tables, for example."
   ]
  },
  {
   "cell_type": "markdown",
   "metadata": {},
   "source": [
    "27.* **[S] (1 POINT)** Your database table has a column `state`. An INSERT statement attempts to insert a row with an invalid state. Inserting this bad data can corrupt your database. Is there a way to prevent this sort of operation from happening?"
   ]
  },
  {
   "cell_type": "markdown",
   "metadata": {},
   "source": [
    "Answer: You could create a table that holds `state` as a primary key, and the field would contain all of the states. Other tables that need `state` would include it as a foreign key. The foreign key constraint would maintain referential integrity, which means that invalid states could not be inserted."
   ]
  },
  {
   "cell_type": "markdown",
   "metadata": {},
   "source": [
    "28. **[S] (2 POINTS TOTAL)** Explain the following database relationships. Provide an example of when each can be useful:\n",
    "\n",
    "- one-to-one"
   ]
  },
  {
   "cell_type": "markdown",
   "metadata": {},
   "source": [
    "Answer: This is a relationship between two tables where each record in each table only appears once.  \n",
    "For example, each homeowner may own a single home."
   ]
  },
  {
   "cell_type": "markdown",
   "metadata": {},
   "source": [
    "- one-to-many"
   ]
  },
  {
   "cell_type": "markdown",
   "metadata": {},
   "source": [
    "Answer: This is a relationship between two tables where each record in a table appears many times in another table.  \n",
    "For example, each movie viewer may watch several movies."
   ]
  },
  {
   "cell_type": "markdown",
   "metadata": {},
   "source": [
    "29. **[S] (2 POINTS TOTAL)** Not every database is a relational database. For some kinds of data, a specialized database is more appropriate. This class of databases is called the NoSQL database. In one to two sentences, briefly discuss two different kinds of NoSQL databases. When would they be appropriate?"
   ]
  },
  {
   "cell_type": "markdown",
   "metadata": {},
   "source": [
    "- NoSQL database 1:"
   ]
  },
  {
   "cell_type": "markdown",
   "metadata": {},
   "source": [
    "Answer: A graph database will store nodes and edges from a graph. This database is useful for modeling relationships between objects, such as airports and flights between them."
   ]
  },
  {
   "cell_type": "markdown",
   "metadata": {},
   "source": [
    "- NoSQL database 2:"
   ]
  },
  {
   "cell_type": "markdown",
   "metadata": {},
   "source": [
    "Answer: A document database will store unstructured documents. For this use case, the database is more efficient than a relational database which expects structured data."
   ]
  },
  {
   "cell_type": "markdown",
   "metadata": {},
   "source": [
    "### VI. Background on Underwriting Models\n",
    "\n",
    "There will be two models discussed in this exercise. \n",
    "\n",
    "- the underwriting model $M_U$ will make automated underwriting decisions\n",
    "- the fair lending model $M_{FL}$ will assess if the underwriting process was systematically fair\n",
    "\n",
    "A common practice is to use a logistic regression (logreg) model for the underwriting decision.  \n",
    "The logreg model often works well, it is interpretable, and relatively simple.  \n",
    "It uses a **logistic function**, also called a **sigmoid function**, to produce output in the range (0,1), which can be treated as a probability (of denial in this case).\n",
    "\n",
    "You can read about it on [Wikipedia](https://en.wikipedia.org/wiki/Logistic_regression), where the first section provides useful background.\n",
    "\n",
    "Here is an example of a **sigmoid function** with a single input variable. It takes FICO as input and returns the probability of loan denial as output:\n",
    "\n",
    "$$Prob(Denied) = \\frac{e^{0.3 - 0.006 \\times FICO}}{1 + e^{0.3 - 0.006 \\times FICO}}$$\n",
    "\n",
    "where $e$ is Euler's constant, approximately equal to 2.71828.  \n",
    "The value 0.3 is used as an **intercept coefficient** and the value -0.006 is used as a **slope coefficient** which is a multiplier on FICO.  \n",
    "These values are determined through an optimization routine which is outside of scope for this exercise.  \n",
    "This is the process of fitting the model.\n",
    "\n",
    "For a different set of data, the coefficients would likely be different. They are estimates of unknown population parameters, and the estimates are subject to variability. Building an understanding of the parameters by taking samples and applying tests is part of **statistical inference**."
   ]
  },
  {
   "cell_type": "markdown",
   "metadata": {},
   "source": [
    "30. **[A] (1 POINT)**  Given the sigmoid function above, if FICO increases, what happens to $Prob(Denied)$?\n"
   ]
  },
  {
   "cell_type": "markdown",
   "metadata": {},
   "source": [
    "Answer: Given the negative coefficient on FICO, an increase in FICO leads to a decrease in the probability of denial (or an increase in the probability of approval)."
   ]
  },
  {
   "cell_type": "markdown",
   "metadata": {
    "tags": []
   },
   "source": [
    "31.* **[A] (1 POINT)** Define a function that implements the sigmoid. It should take FICO as input and return the probability of denial as output.  \n",
    "Call the function for a FICO score of 600 to show the output.  "
   ]
  },
  {
   "cell_type": "code",
   "execution_count": 31,
   "metadata": {},
   "outputs": [],
   "source": [
    "#Answer\n",
    "\n",
    "def sigmoid_fcn(fico):\n",
    "    # linear term\n",
    "    s = 0.3 - 0.006 * fico\n",
    "    \n",
    "    return np.exp(s) / ( 1 + np.exp(s) )"
   ]
  },
  {
   "cell_type": "code",
   "execution_count": 32,
   "metadata": {},
   "outputs": [
    {
     "data": {
      "text/plain": [
       "0.03557118927263616"
      ]
     },
     "execution_count": 32,
     "metadata": {},
     "output_type": "execute_result"
    }
   ],
   "source": [
    "sigmoid_fcn(600)"
   ]
  },
  {
   "cell_type": "markdown",
   "metadata": {},
   "source": [
    "Answer: The probability of denial is 0.03557118927263616"
   ]
  },
  {
   "cell_type": "markdown",
   "metadata": {},
   "source": [
    "32. **[A] (1 POINT)** Using your sigmoid function in a loop, calculate the probability of denial for FICO scores between 300 and 850 inclusive of the endpoints and in increments of 10. Specifically this should compute for FICO in range: [300, 310, ..., 840, 850]. Print the first five probabilities."
   ]
  },
  {
   "cell_type": "code",
   "execution_count": 38,
   "metadata": {},
   "outputs": [
    {
     "data": {
      "text/plain": [
       "[0.18242552380635632,\n",
       " 0.173646647019005,\n",
       " 0.16520487019061464,\n",
       " 0.15709546888545275,\n",
       " 0.14931293453084374]"
      ]
     },
     "execution_count": 38,
     "metadata": {},
     "output_type": "execute_result"
    }
   ],
   "source": [
    "# Answer\n",
    "probs = []\n",
    "\n",
    "# build fico range\n",
    "ficos = np.arange(300, 860, 10)\n",
    "for fico in ficos:\n",
    "    # compute sigmoid and append to list\n",
    "    probs.append(sigmoid_fcn(fico))\n",
    "\n",
    "# print first five probabilities    \n",
    "probs[:5]"
   ]
  },
  {
   "cell_type": "markdown",
   "metadata": {},
   "source": [
    "33. **[D] (1 POINT)** Using your results from (32), produce a plot with FICO on the x-axis and probability of denial on the y-axis. "
   ]
  },
  {
   "cell_type": "code",
   "execution_count": 49,
   "metadata": {},
   "outputs": [
    {
     "data": {
      "text/plain": [
       "Text(0, 0.5, 'Prob(denial)')"
      ]
     },
     "execution_count": 49,
     "metadata": {},
     "output_type": "execute_result"
    },
    {
     "data": {
      "image/png": "[encoded data removed]",
      "text/plain": [
       "<Figure size 432x288 with 1 Axes>"
      ]
     },
     "metadata": {
      "needs_background": "light"
     },
     "output_type": "display_data"
    }
   ],
   "source": [
    "# Answer\n",
    "\n",
    "import matplotlib.pyplot as plt\n",
    "plt.scatter(ficos, probs)\n",
    "plt.xlabel('FICO')\n",
    "plt.ylabel('Prob(denial)')"
   ]
  },
  {
   "cell_type": "markdown",
   "metadata": {},
   "source": [
    "---"
   ]
  },
  {
   "cell_type": "markdown",
   "metadata": {},
   "source": [
    "### VII. A Brief Introduction to Statistical Significance"
   ]
  },
  {
   "cell_type": "markdown",
   "metadata": {},
   "source": [
    "From the example sigmoid function, the FICO multiplier, or slope coefficient, was -0.006. This is quite small.  \n",
    "If we drew another sample of data, fit the model to the data, and estimated the slope coefficent, it would likely be different.  \n",
    "Perhaps this time, the coefficient might be 0.001. There is variability when measuring this quantity.  \n",
    "\n",
    "The variability of the coefficient estimate is called the **standard error**.  \n",
    "The standard error can be used in a statistical test to determine if the coefficient estimate is **statistically significant (stat sig)**.  \n",
    "In this case, we want to know if the estimate is truly different from zero.\n",
    "\n",
    "The process goes like this:\n",
    "- compute the estimate $\\hat{\\theta}$\n",
    "- compute the standard error se($\\hat{\\theta}$)\n",
    "- compute the ratio z = $\\hat{\\theta}$ / se($\\hat{\\theta}$)\n",
    "- compute the **p-value**. this is the probability of observing the estimate value or something more extreme assuming that the coefficient is zero.\n",
    "- for a sufficently small p-value (0.05 is a typical cutoff), we conclude statistical significance at the cutoff level\n",
    "\n",
    "If you would like to learn more about the p-value, you can find details on [Wikipedia](https://en.wikipedia.org/wiki/P-value). This is optional.\n",
    "\n",
    "---\n",
    "To summarize the logic:\n",
    "\n",
    "estimate statistically different from zero -> conclude statistical significance -> predictor is useful and should be included in model  \n",
    "estimate NOT statistically different from zero -> not statistically significant ->  predictor is not useful and can be excluded from model\n",
    "---\n",
    "\n",
    "A coefficient estimate table from a model is shown below.  \n",
    "This was generated by the [statsmodels](https://www.statsmodels.org/stable/index.html) module.  \n",
    "We will use this package for modeling, so it will be helpful to review the examples in the link.\n",
    "\n",
    "For the `Explained by: Social support` predictor,\n",
    "\n",
    "- the estimate $\\hat{\\theta}$ has value 5.35\n",
    "- the standard error se($\\hat{\\theta}$) has value 1.365\n",
    "- the ratio has value z = 5.35 / 1.365 = 3.92\n",
    "- p-value = P>|z| = 0.000, which is less than the 0.05 cutoff \n",
    "\n",
    "Given the p-value, we can conclude that this predictor is statistically significant at level 0.05.  "
   ]
  },
  {
   "cell_type": "markdown",
   "metadata": {},
   "source": [
    "<img src=\"coef_table.png\" width=500>"
   ]
  },
  {
   "cell_type": "markdown",
   "metadata": {},
   "source": [
    "**ANSWER THESE QUESTIONS**"
   ]
  },
  {
   "cell_type": "markdown",
   "metadata": {},
   "source": [
    "34. **[A] (1 POINT)** Given the information in the coefficient estimate table, what can we conclude about the constant term `const` and the predictor `Explained by: Healthy life expectancy`?"
   ]
  },
  {
   "cell_type": "markdown",
   "metadata": {},
   "source": [
    "Answer: Given that the p-values, both the constant term and the life expectancy terms are statistically significant at level 0.05.\n",
    "\n",
    "---"
   ]
  },
  {
   "cell_type": "markdown",
   "metadata": {},
   "source": [
    "35.* **(2 POINTS TOTAL)**  \n",
    "In this exercise, you will explore the variability of the sample mean by repeatedly drawing random values and computing their means.  \n",
    "Each time that you draw values and compute the sample mean, it will be different.\n",
    "  \n",
    "**Part 1. [A] (1 POINT)**. Follow these steps:\n",
    "\n",
    "- Read about the `numpy` module [here](https://numpy.org/)  \n",
    "- In the code cell below, fill in the missing code to implement this task:\n",
    "  - Loop 1000 times, where inside each loop the following happens:\n",
    "    - Draw 100 random numbers from a [standard normal distribution](https://numpy.org/doc/stable/reference/random/generated/numpy.random.standard_normal.html)\n",
    "    - Compute the mean of the random numbers\n",
    "  - Outside of the loop, print the first 5 means\n",
    "  "
   ]
  },
  {
   "cell_type": "code",
   "execution_count": null,
   "metadata": {},
   "outputs": [],
   "source": [
    "import numpy as np\n",
    "\n",
    "num_loops = [FILL THIS IN]\n",
    "num_draws = [FILL THIS IN]\n",
    "sample_mean = [] # empty list for storing the sample means\n",
    "\n",
    "np.random.seed(314) # This ensures the same random numbers are generated for each experiment run. This makes the result reproducable.\n",
    "\n",
    "# enter a for-loop here\n",
    "    # generate standard normals here, storing in variable called 'vals'\n",
    "    sample_mean.append(vals.mean()) # appends the means to list\n",
    "    \n",
    "# print the first 5 means from the list\n",
    "sample_mean[:5]"
   ]
  },
  {
   "cell_type": "code",
   "execution_count": 51,
   "metadata": {},
   "outputs": [
    {
     "data": {
      "text/plain": [
       "[-0.024290543811315835,\n",
       " 0.12919229916429872,\n",
       " -0.0032006516909880833,\n",
       " 0.06201942656988585,\n",
       " -0.06786676696262121]"
      ]
     },
     "execution_count": 51,
     "metadata": {},
     "output_type": "execute_result"
    }
   ],
   "source": [
    "#Answer\n",
    "\n",
    "import numpy as np\n",
    "\n",
    "num_loops = 1000\n",
    "num_draws = 100\n",
    "sample_mean = [] # empty list for storing the sample means\n",
    "\n",
    "np.random.seed(314) # this ensures the same random numbers are generated for each experiment run. This makes the result reproducable.\n",
    "\n",
    "for iter in range(num_loops):\n",
    "    vals = np.random.standard_normal(num_draws)\n",
    "    sample_mean.append(vals.mean())\n",
    "    \n",
    "# print the first 5 means from the list\n",
    "sample_mean[:5]\n"
   ]
  },
  {
   "cell_type": "markdown",
   "metadata": {},
   "source": [
    "**Part 2. [D] (1 POINT)** Create a histogram of the sample means from Part 1. Give it the title: 'Histogram of Sample Means'"
   ]
  },
  {
   "cell_type": "code",
   "execution_count": 52,
   "metadata": {},
   "outputs": [
    {
     "data": {
      "text/plain": [
       "[Text(0.5, 1.0, 'Histogram of Sample Means')]"
      ]
     },
     "execution_count": 52,
     "metadata": {},
     "output_type": "execute_result"
    },
    {
     "data": {
      "image/png": "[encoded data removed]",
      "text/plain": [
       "<Figure size 432x288 with 1 Axes>"
      ]
     },
     "metadata": {
      "needs_background": "light"
     },
     "output_type": "display_data"
    }
   ],
   "source": [
    "# Answer\n",
    "\n",
    "import seaborn as sns\n",
    "\n",
    "sns.histplot(sample_mean).set(title='Histogram of Sample Means')"
   ]
  },
  {
   "cell_type": "markdown",
   "metadata": {},
   "source": [
    "---"
   ]
  },
  {
   "cell_type": "markdown",
   "metadata": {},
   "source": [
    "### VIII. Introduction to statsmodels \n",
    "\n",
    "The Python module `statsmodels` allows users to build various statistical models including logistic regression models.  \n",
    "Importantly, it computes standard errors and p-values.\n",
    "\n",
    "Below, we illustrate a logistic regression example using a [World Happiness dataset](https://worldhappiness.report/ed/2022/)."
   ]
  },
  {
   "cell_type": "code",
   "execution_count": 53,
   "metadata": {},
   "outputs": [],
   "source": [
    "import numpy as np\n",
    "import pandas as pd\n",
    "import statsmodels.api as sm"
   ]
  },
  {
   "cell_type": "markdown",
   "metadata": {},
   "source": [
    "**Load the Country Happiness dataset**"
   ]
  },
  {
   "cell_type": "code",
   "execution_count": 67,
   "metadata": {},
   "outputs": [
    {
     "data": {
      "text/html": [
       "<div>\n",
       "<style scoped>\n",
       "    .dataframe tbody tr th:only-of-type {\n",
       "        vertical-align: middle;\n",
       "    }\n",
       "\n",
       "    .dataframe tbody tr th {\n",
       "        vertical-align: top;\n",
       "    }\n",
       "\n",
       "    .dataframe thead th {\n",
       "        text-align: right;\n",
       "    }\n",
       "</style>\n",
       "<table border=\"1\" class=\"dataframe\">\n",
       "  <thead>\n",
       "    <tr style=\"text-align: right;\">\n",
       "      <th></th>\n",
       "      <th>Country</th>\n",
       "      <th>Happiness score</th>\n",
       "      <th>Whisker-high</th>\n",
       "      <th>Whisker-low</th>\n",
       "      <th>Dystopia (1.92) + residual</th>\n",
       "      <th>Explained by: GDP per capita</th>\n",
       "      <th>Explained by: Social support</th>\n",
       "      <th>Explained by: Healthy life expectancy</th>\n",
       "      <th>Explained by: Freedom to make life choices</th>\n",
       "      <th>Explained by: Generosity</th>\n",
       "      <th>Explained by: Perceptions of corruption</th>\n",
       "    </tr>\n",
       "  </thead>\n",
       "  <tbody>\n",
       "    <tr>\n",
       "      <th>0</th>\n",
       "      <td>Finland</td>\n",
       "      <td>7.632</td>\n",
       "      <td>7.695</td>\n",
       "      <td>7.569</td>\n",
       "      <td>2.595</td>\n",
       "      <td>1.305</td>\n",
       "      <td>1.592</td>\n",
       "      <td>0.874</td>\n",
       "      <td>0.681</td>\n",
       "      <td>0.192</td>\n",
       "      <td>0.393</td>\n",
       "    </tr>\n",
       "    <tr>\n",
       "      <th>1</th>\n",
       "      <td>Norway</td>\n",
       "      <td>7.594</td>\n",
       "      <td>7.657</td>\n",
       "      <td>7.530</td>\n",
       "      <td>2.383</td>\n",
       "      <td>1.456</td>\n",
       "      <td>1.582</td>\n",
       "      <td>0.861</td>\n",
       "      <td>0.686</td>\n",
       "      <td>0.286</td>\n",
       "      <td>0.340</td>\n",
       "    </tr>\n",
       "    <tr>\n",
       "      <th>2</th>\n",
       "      <td>Denmark</td>\n",
       "      <td>7.555</td>\n",
       "      <td>7.623</td>\n",
       "      <td>7.487</td>\n",
       "      <td>2.370</td>\n",
       "      <td>1.351</td>\n",
       "      <td>1.590</td>\n",
       "      <td>0.868</td>\n",
       "      <td>0.683</td>\n",
       "      <td>0.284</td>\n",
       "      <td>0.408</td>\n",
       "    </tr>\n",
       "    <tr>\n",
       "      <th>3</th>\n",
       "      <td>Iceland</td>\n",
       "      <td>7.495</td>\n",
       "      <td>7.593</td>\n",
       "      <td>7.398</td>\n",
       "      <td>2.426</td>\n",
       "      <td>1.343</td>\n",
       "      <td>1.644</td>\n",
       "      <td>0.914</td>\n",
       "      <td>0.677</td>\n",
       "      <td>0.353</td>\n",
       "      <td>0.138</td>\n",
       "    </tr>\n",
       "    <tr>\n",
       "      <th>4</th>\n",
       "      <td>Switzerland</td>\n",
       "      <td>7.487</td>\n",
       "      <td>7.570</td>\n",
       "      <td>7.405</td>\n",
       "      <td>2.320</td>\n",
       "      <td>1.420</td>\n",
       "      <td>1.549</td>\n",
       "      <td>0.927</td>\n",
       "      <td>0.660</td>\n",
       "      <td>0.256</td>\n",
       "      <td>0.357</td>\n",
       "    </tr>\n",
       "  </tbody>\n",
       "</table>\n",
       "</div>"
      ],
      "text/plain": [
       "       Country  Happiness score  Whisker-high  Whisker-low  \\\n",
       "0      Finland            7.632         7.695        7.569   \n",
       "1       Norway            7.594         7.657        7.530   \n",
       "2      Denmark            7.555         7.623        7.487   \n",
       "3      Iceland            7.495         7.593        7.398   \n",
       "4  Switzerland            7.487         7.570        7.405   \n",
       "\n",
       "   Dystopia (1.92) + residual  Explained by: GDP per capita  \\\n",
       "0                       2.595                         1.305   \n",
       "1                       2.383                         1.456   \n",
       "2                       2.370                         1.351   \n",
       "3                       2.426                         1.343   \n",
       "4                       2.320                         1.420   \n",
       "\n",
       "   Explained by: Social support  Explained by: Healthy life expectancy  \\\n",
       "0                         1.592                                  0.874   \n",
       "1                         1.582                                  0.861   \n",
       "2                         1.590                                  0.868   \n",
       "3                         1.644                                  0.914   \n",
       "4                         1.549                                  0.927   \n",
       "\n",
       "   Explained by: Freedom to make life choices  Explained by: Generosity  \\\n",
       "0                                       0.681                     0.192   \n",
       "1                                       0.686                     0.286   \n",
       "2                                       0.683                     0.284   \n",
       "3                                       0.677                     0.353   \n",
       "4                                       0.660                     0.256   \n",
       "\n",
       "   Explained by: Perceptions of corruption  \n",
       "0                                    0.393  \n",
       "1                                    0.340  \n",
       "2                                    0.408  \n",
       "3                                    0.138  \n",
       "4                                    0.357  "
      ]
     },
     "execution_count": 67,
     "metadata": {},
     "output_type": "execute_result"
    }
   ],
   "source": [
    "# set the path to the dataset. the '.' character means look here in the current directory.\n",
    "FULLPATH = './Country_Happiness.csv'\n",
    "\n",
    "# read in the csv file as a Pandas dataframe\n",
    "hap = pd.read_csv(FULLPATH) \n",
    "\n",
    "# show the first 5 rows of data\n",
    "hap.head()"
   ]
  },
  {
   "cell_type": "markdown",
   "metadata": {},
   "source": [
    "**Prepare the data for modeling**"
   ]
  },
  {
   "cell_type": "code",
   "execution_count": 68,
   "metadata": {},
   "outputs": [
    {
     "name": "stdout",
     "output_type": "stream",
     "text": [
      "X first 5 rows:\n",
      " [[1.    1.592 0.874]\n",
      " [1.    1.582 0.861]\n",
      " [1.    1.59  0.868]\n",
      " [1.    1.644 0.914]\n",
      " [1.    1.549 0.927]]\n",
      "\n",
      "\n",
      "y first 5 values:\n",
      " [1 1 1 1 1]\n"
     ]
    }
   ],
   "source": [
    "# build the design matrix X which holds predictors\n",
    "X = hap[['Explained by: Social support','Explained by: Healthy life expectancy']]\n",
    "\n",
    "# append column of 1s to design matrix for intercept term. this allows for a constant in the model.\n",
    "X = sm.add_constant(X) \n",
    "print('X first 5 rows:\\n', X.values[:5])\n",
    "\n",
    "# build the target y with some 1s and 0s.\n",
    "y = hap[\"response\"] = np.concatenate((np.repeat(1,100), np.repeat(0,56)))\n",
    "\n",
    "print('\\n')\n",
    "print('y first 5 values:\\n', y[:5])"
   ]
  },
  {
   "cell_type": "markdown",
   "metadata": {},
   "source": [
    "**Fit the logistic regression model and show the results**"
   ]
  },
  {
   "cell_type": "code",
   "execution_count": 69,
   "metadata": {},
   "outputs": [
    {
     "name": "stdout",
     "output_type": "stream",
     "text": [
      "Optimization terminated successfully.\n",
      "         Current function value: 0.293347\n",
      "         Iterations 7\n",
      "                           Logit Regression Results                           \n",
      "==============================================================================\n",
      "Dep. Variable:                      y   No. Observations:                  156\n",
      "Model:                          Logit   Df Residuals:                      153\n",
      "Method:                           MLE   Df Model:                            2\n",
      "Date:                Tue, 16 May 2023   Pseudo R-squ.:                  0.5506\n",
      "Time:                        08:31:26   Log-Likelihood:                -45.762\n",
      "converged:                       True   LL-Null:                       -101.84\n",
      "Covariance Type:            nonrobust   LLR p-value:                 4.419e-25\n",
      "=========================================================================================================\n",
      "                                            coef    std err          z      P>|z|      [0.025      0.975]\n",
      "---------------------------------------------------------------------------------------------------------\n",
      "const                                    -9.5796      1.685     -5.686      0.000     -12.882      -6.278\n",
      "Explained by: Social support              5.3500      1.365      3.920      0.000       2.675       8.025\n",
      "Explained by: Healthy life expectancy     6.7852      1.596      4.252      0.000       3.657       9.913\n",
      "=========================================================================================================\n"
     ]
    }
   ],
   "source": [
    "# Logit is a nickname for logistic regression\n",
    "results = sm.Logit(y, X).fit()\n",
    "\n",
    "print(results.summary())"
   ]
  },
  {
   "cell_type": "markdown",
   "metadata": {},
   "source": [
    "**Understanding Significance**\n",
    "\n",
    "The bottom table summarizes the regression coefficients.  We saw this data earlier.  \n",
    "Since all of the p-values ($P>|z|$ column) are less than 0.05, we can conclude:\n",
    "\n",
    "All predictors are significant at level 0.05:\n",
    "- const (or intercept) \n",
    "- Social support\n",
    "- Healthy life expectancy\n",
    "\n",
    "You now have the tools to fit a logistic regression model and interpret significance by yourself!"
   ]
  },
  {
   "cell_type": "markdown",
   "metadata": {},
   "source": [
    "**TRY FOR YOURSELF**\n",
    "\n",
    "36. **[A] (1 POINT)** Use the modeling code above to fit a new logistic regression model. The model will use an intercept term and these predictors:\n",
    "\n",
    "- Explained by: Social support\n",
    "- Explained by: Healthy life expectancy\n",
    "- Explained by: Generosity\n",
    "\n",
    "Print the summary table."
   ]
  },
  {
   "cell_type": "code",
   "execution_count": 70,
   "metadata": {},
   "outputs": [
    {
     "name": "stdout",
     "output_type": "stream",
     "text": [
      "X first 5 rows:\n",
      " [[1.    1.592 0.874 0.192]\n",
      " [1.    1.582 0.861 0.286]\n",
      " [1.    1.59  0.868 0.284]\n",
      " [1.    1.644 0.914 0.353]\n",
      " [1.    1.549 0.927 0.256]]\n",
      "\n",
      "\n",
      "y first 5 values:\n",
      " [1 1 1 1 1]\n",
      "Optimization terminated successfully.\n",
      "         Current function value: 0.292941\n",
      "         Iterations 7\n",
      "                           Logit Regression Results                           \n",
      "==============================================================================\n",
      "Dep. Variable:                      y   No. Observations:                  156\n",
      "Model:                          Logit   Df Residuals:                      152\n",
      "Method:                           MLE   Df Model:                            3\n",
      "Date:                Tue, 16 May 2023   Pseudo R-squ.:                  0.5513\n",
      "Time:                        08:31:35   Log-Likelihood:                -45.699\n",
      "converged:                       True   LL-Null:                       -101.84\n",
      "Covariance Type:            nonrobust   LLR p-value:                 3.538e-24\n",
      "=========================================================================================================\n",
      "                                            coef    std err          z      P>|z|      [0.025      0.975]\n",
      "---------------------------------------------------------------------------------------------------------\n",
      "const                                    -9.7358      1.746     -5.576      0.000     -13.158      -6.314\n",
      "Explained by: Social support              5.3304      1.365      3.906      0.000       2.655       8.005\n",
      "Explained by: Healthy life expectancy     6.8426      1.613      4.243      0.000       3.682      10.004\n",
      "Explained by: Generosity                  0.8690      2.446      0.355      0.722      -3.924       5.662\n",
      "=========================================================================================================\n"
     ]
    }
   ],
   "source": [
    "# Answer\n",
    "\n",
    "# build the design matrix X which holds predictors\n",
    "X = hap[['Explained by: Social support','Explained by: Healthy life expectancy','Explained by: Generosity']]\n",
    "\n",
    "# append column of 1s to design matrix for intercept term. this allows for a constant in the model.\n",
    "X = sm.add_constant(X) \n",
    "print('X first 5 rows:\\n', X.values[:5])\n",
    "\n",
    "# build the target y with some 1s and 0s.\n",
    "y = hap[\"response\"] = np.concatenate((np.repeat(1,100), np.repeat(0,56)))\n",
    "\n",
    "print('\\n')\n",
    "print('y first 5 values:\\n', y[:5])\n",
    "\n",
    "results = sm.Logit(y, X).fit()\n",
    "\n",
    "print(results.summary())"
   ]
  },
  {
   "cell_type": "markdown",
   "metadata": {},
   "source": [
    "---"
   ]
  },
  {
   "cell_type": "markdown",
   "metadata": {},
   "source": [
    "### IX. Quantifying Fair Lending using Logistic Regression\n",
    "\n",
    "Now we return to the mortgage lending data."
   ]
  },
  {
   "cell_type": "markdown",
   "metadata": {},
   "source": [
    "**OPTIONAL EXERCISE**  \n",
    "Conduct any additional analysis that you would like and enter it in this section. This may include statistics, tables, or graphs.  "
   ]
  },
  {
   "cell_type": "markdown",
   "metadata": {},
   "source": [
    "Answer: left intentionally blank. If there are perfect submissions, this question can be used as a tie-breaker."
   ]
  },
  {
   "cell_type": "markdown",
   "metadata": {},
   "source": [
    "---"
   ]
  },
  {
   "cell_type": "markdown",
   "metadata": {},
   "source": [
    "The predictors used in the underwriting model $M_{U}$ are as follows:\n",
    "\n",
    "- `fico`\n",
    "- `loan_to_value`\n",
    "- `loan_term`\n",
    "- `nurse`\n",
    "\n",
    "We will call this list $L_U$"
   ]
  },
  {
   "cell_type": "markdown",
   "metadata": {},
   "source": [
    "37. **[A] (1 POINT)** From a Fair Lending perspective, which predictors from $L_U$ should be used, and which should not be used? Explain your answer."
   ]
  },
  {
   "cell_type": "markdown",
   "metadata": {},
   "source": [
    "Answer: `fico`, `loan_to_value`, and `loan_term` can all be used. The first two are credit factors, while the third is a loan attribute.   \n",
    "The `nurse` variable could discriminate by gender and should not be used.\n",
    "\n",
    "---"
   ]
  },
  {
   "cell_type": "markdown",
   "metadata": {},
   "source": [
    "38. **[A] (1 POINT)** Since `nurse` is a predictor, you'll need this in your dataframe. Using the `occupation` variable, create the new column. The value will be 1 for nurse applicants and 0 otherwise."
   ]
  },
  {
   "cell_type": "code",
   "execution_count": 74,
   "metadata": {},
   "outputs": [],
   "source": [
    "# Answer\n",
    "df['nurse'] = df.occupation.apply(lambda x: 1 if x == 'nurse' else 0)"
   ]
  },
  {
   "cell_type": "markdown",
   "metadata": {},
   "source": [
    "39. **[A] (1 POINT)** Train the underwriting model on the full dataset using $L_U$ as the predictors. Include an intercept term.  Print the model summary and indicate which predictors are significant."
   ]
  },
  {
   "cell_type": "code",
   "execution_count": 75,
   "metadata": {},
   "outputs": [
    {
     "name": "stdout",
     "output_type": "stream",
     "text": [
      "X first 5 rows:\n",
      " [[  1.   683.    44.19  30.     0.  ]\n",
      " [  1.   803.    45.94  30.     0.  ]\n",
      " [  1.   790.    36.86  30.     0.  ]\n",
      " [  1.   337.    92.44  30.     0.  ]\n",
      " [  1.   354.    91.16  30.     0.  ]]\n",
      "\n",
      "\n",
      "y first 5 values:\n",
      " 0    0\n",
      "1    0\n",
      "2    0\n",
      "3    1\n",
      "4    1\n",
      "Name: denied, dtype: int64\n",
      "Optimization terminated successfully.\n",
      "         Current function value: 0.189342\n",
      "         Iterations 8\n",
      "                           Logit Regression Results                           \n",
      "==============================================================================\n",
      "Dep. Variable:                 denied   No. Observations:                 1000\n",
      "Model:                          Logit   Df Residuals:                      995\n",
      "Method:                           MLE   Df Model:                            4\n",
      "Date:                Tue, 16 May 2023   Pseudo R-squ.:                  0.7249\n",
      "Time:                        08:34:23   Log-Likelihood:                -189.34\n",
      "converged:                       True   LL-Null:                       -688.34\n",
      "Covariance Type:            nonrobust   LLR p-value:                9.725e-215\n",
      "=================================================================================\n",
      "                    coef    std err          z      P>|z|      [0.025      0.975]\n",
      "---------------------------------------------------------------------------------\n",
      "const            11.7274      2.274      5.158      0.000       7.271      16.184\n",
      "fico             -0.0205      0.002     -9.724      0.000      -0.025      -0.016\n",
      "loan_to_value     0.0107      0.016      0.682      0.495      -0.020       0.041\n",
      "loan_term        -0.0228      0.035     -0.660      0.509      -0.090       0.045\n",
      "nurse             7.4678      1.097      6.809      0.000       5.318       9.617\n",
      "=================================================================================\n"
     ]
    }
   ],
   "source": [
    "# Answer\n",
    "\n",
    "Lu = ['fico','loan_to_value','loan_term','nurse']\n",
    "\n",
    "# build the design matrix X which holds predictors\n",
    "X = df[Lu]\n",
    "\n",
    "# append column of 1s to design matrix for intercept term. this allows for a constant in the model.\n",
    "X = sm.add_constant(X) \n",
    "print('X first 5 rows:\\n', X.values[:5])\n",
    "\n",
    "# build the target y with some 1s and 0s.\n",
    "y = df.denied\n",
    "\n",
    "print('\\n')\n",
    "print('y first 5 values:\\n', y[:5])\n",
    "\n",
    "results = sm.Logit(y, X).fit()\n",
    "\n",
    "print(results.summary())"
   ]
  },
  {
   "cell_type": "markdown",
   "metadata": {},
   "source": [
    "Answer: \n",
    "\n",
    "Based on the p-values in the coefficient summary table, these factors are statistically significant at level 0.05:\n",
    "\n",
    "- const\n",
    "- fico\n",
    "- nurse"
   ]
  },
  {
   "cell_type": "markdown",
   "metadata": {},
   "source": [
    "40. **[A] (2 POINTS TOTAL; 1 POINT FOR EACH PART)**  \n",
    "Next, you will fit a fair lending model $M_{FL}$ to understand if `gender` is a significant predictor.  \n",
    "The model should include an intercept term, the credit factors, attributes of the loan (when useful), and `gender`.  \n",
    "If you found problematic predictors from $L_U$ used in $M_{U}$, those should NOT be included.\n",
    "\n",
    "If `gender` is a significant predictor in $M_{FL}$, this would indicate that gender is being used to make lending decisions, which is discriminatory practice.\n",
    "\n",
    "Hint: Note that gender is not quantitative, and you want to examine disparate treatment of females. You'll want to recode `gender` in the model."
   ]
  },
  {
   "cell_type": "markdown",
   "metadata": {},
   "source": [
    "**Part 1**. Which predictors will you use in $M_{FL}$?"
   ]
  },
  {
   "cell_type": "code",
   "execution_count": 84,
   "metadata": {},
   "outputs": [],
   "source": [
    "# Answer: exclude the nurse factor, which is problematic. Gender or male or female is acceptable here.\n",
    "\n",
    "Lfl = ['fico','loan_to_value','loan_term','female']"
   ]
  },
  {
   "cell_type": "markdown",
   "metadata": {},
   "source": [
    "**Part 2**. Print the model summary and discuss your conclusions."
   ]
  },
  {
   "cell_type": "code",
   "execution_count": 82,
   "metadata": {},
   "outputs": [
    {
     "name": "stdout",
     "output_type": "stream",
     "text": [
      "X first 5 rows:\n",
      " [[  1.   683.    44.19  30.     0.  ]\n",
      " [  1.   803.    45.94  30.     1.  ]\n",
      " [  1.   790.    36.86  30.     1.  ]\n",
      " [  1.   337.    92.44  30.     1.  ]\n",
      " [  1.   354.    91.16  30.     1.  ]]\n",
      "\n",
      "\n",
      "y first 5 values:\n",
      " 0    0\n",
      "1    0\n",
      "2    0\n",
      "3    1\n",
      "4    1\n",
      "Name: denied, dtype: int64\n",
      "Optimization terminated successfully.\n",
      "         Current function value: 0.250446\n",
      "         Iterations 7\n",
      "                           Logit Regression Results                           \n",
      "==============================================================================\n",
      "Dep. Variable:                 denied   No. Observations:                 1000\n",
      "Model:                          Logit   Df Residuals:                      995\n",
      "Method:                           MLE   Df Model:                            4\n",
      "Date:                Tue, 16 May 2023   Pseudo R-squ.:                  0.6362\n",
      "Time:                        08:42:24   Log-Likelihood:                -250.45\n",
      "converged:                       True   LL-Null:                       -688.34\n",
      "Covariance Type:            nonrobust   LLR p-value:                2.941e-188\n",
      "=================================================================================\n",
      "                    coef    std err          z      P>|z|      [0.025      0.975]\n",
      "---------------------------------------------------------------------------------\n",
      "const             9.2659      1.923      4.817      0.000       5.496      13.036\n",
      "fico             -0.0168      0.002     -9.735      0.000      -0.020      -0.013\n",
      "loan_to_value     0.0065      0.013      0.496      0.620      -0.019       0.032\n",
      "loan_term        -0.0035      0.030     -0.118      0.906      -0.062       0.055\n",
      "female            0.5647      0.237      2.382      0.017       0.100       1.029\n",
      "=================================================================================\n"
     ]
    }
   ],
   "source": [
    "# Answer\n",
    "\n",
    "# recode gender to a binary indicator of female\n",
    "df['female'] = df.gender.apply(lambda x: 1 if x == 'female' else 0)\n",
    "\n",
    "# build the design matrix X which holds predictors\n",
    "X = df[Lfl]\n",
    "\n",
    "# append column of 1s to design matrix for intercept term. this allows for a constant in the model.\n",
    "X = sm.add_constant(X) \n",
    "print('X first 5 rows:\\n', X.values[:5])\n",
    "\n",
    "# build the target y with some 1s and 0s.\n",
    "y = df.denied\n",
    "\n",
    "print('\\n')\n",
    "print('y first 5 values:\\n', y[:5])\n",
    "\n",
    "results = sm.Logit(y, X).fit()\n",
    "\n",
    "print(results.summary())"
   ]
  },
  {
   "cell_type": "markdown",
   "metadata": {},
   "source": [
    "Answer: The coefficient estimate of `female` is positive, which indicates that females are more likely to be denied. \n",
    "The p-value on female is 0.017, which indicates that the coefficient is statistically significant at level 0.05.  \n",
    "This finding suggests possible discriminatory lending practices for females."
   ]
  },
  {
   "cell_type": "markdown",
   "metadata": {},
   "source": [
    "---"
   ]
  },
  {
   "cell_type": "markdown",
   "metadata": {},
   "source": [
    "### X. Summary"
   ]
  },
  {
   "cell_type": "markdown",
   "metadata": {},
   "source": [
    "In this exercise, you learned about fair lending and protected classes.\n",
    "\n",
    "We discussed how ML models are used in lending decisions, including underwriting and pricing.\n",
    "\n",
    "Sometimes, discriminatory behavior can unintentionally creep into models, as in the case with the `occupation` variable.\n",
    "\n",
    "You trained an underwriting model and a fair lending model on some synthetic data.\n",
    "\n",
    "The results of the models provided insight into which predictors correlated with the denial decision.\n",
    "\n",
    "This case was based on a real-world scenario. It illustrates the application of data science to a critically important task in finance.\n",
    "\n",
    "You also learned greater context around the problem, including:\n",
    "- how a database system can be used to manage the data\n",
    "- how to examine and explore the data\n",
    "\n",
    "We hope you enjoyed this challenge and learned a lot!"
   ]
  },
  {
   "cell_type": "markdown",
   "metadata": {},
   "source": [
    "---"
   ]
  },
  {
   "cell_type": "markdown",
   "metadata": {},
   "source": [
    "### XI. Feedback"
   ]
  },
  {
   "cell_type": "markdown",
   "metadata": {},
   "source": [
    "41. **[D] (1 POINT)**  How did you like the content in this exercise? Briefly discuss what was fun, interesting, and new for you. "
   ]
  },
  {
   "cell_type": "markdown",
   "metadata": {},
   "source": [
    "Answer: Student earns a point for providing a coherent answer."
   ]
  },
  {
   "cell_type": "markdown",
   "metadata": {},
   "source": [
    "42. **[D] (1 POINT)**  Do you have any ideas for how to make the **content** more educational and engaging? We'd love to hear them!"
   ]
  },
  {
   "cell_type": "markdown",
   "metadata": {},
   "source": [
    "Answer: Student earns a point for providing a coherent answer."
   ]
  },
  {
   "cell_type": "markdown",
   "metadata": {},
   "source": [
    "---"
   ]
  }
 ],
 "metadata": {
  "anaconda-cloud": {},
  "kernelspec": {
   "display_name": "Python 3 (ipykernel)",
   "language": "python",
   "name": "python3"
  },
  "language_info": {
   "codemirror_mode": {
    "name": "ipython",
    "version": 3
   },
   "file_extension": ".py",
   "mimetype": "text/x-python",
   "name": "python",
   "nbconvert_exporter": "python",
   "pygments_lexer": "ipython3",
   "version": "3.9.12"
  }
 },
 "nbformat": 4,
 "nbformat_minor": 4
}
